{
 "cells": [
  {
   "cell_type": "code",
   "execution_count": 14,
   "metadata": {},
   "outputs": [
    {
     "data": {
      "text/html": [
       "<div>\n",
       "<style scoped>\n",
       "    .dataframe tbody tr th:only-of-type {\n",
       "        vertical-align: middle;\n",
       "    }\n",
       "\n",
       "    .dataframe tbody tr th {\n",
       "        vertical-align: top;\n",
       "    }\n",
       "\n",
       "    .dataframe thead th {\n",
       "        text-align: right;\n",
       "    }\n",
       "</style>\n",
       "<table border=\"1\" class=\"dataframe\">\n",
       "  <thead>\n",
       "    <tr style=\"text-align: right;\">\n",
       "      <th></th>\n",
       "      <th>doi</th>\n",
       "      <th>abstract</th>\n",
       "      <th>hall_data</th>\n",
       "    </tr>\n",
       "  </thead>\n",
       "  <tbody>\n",
       "    <tr>\n",
       "      <th>0</th>\n",
       "      <td>10.1039/c7ta08869h</td>\n",
       "      <td>?? The Royal Society of Chemistry 2017. Zintl ...</td>\n",
       "      <td>1</td>\n",
       "    </tr>\n",
       "    <tr>\n",
       "      <th>1</th>\n",
       "      <td>10.1007/s11664-015-4303-6</td>\n",
       "      <td>?? 2015, The Minerals, Metals &amp; Materials Soci...</td>\n",
       "      <td>1</td>\n",
       "    </tr>\n",
       "    <tr>\n",
       "      <th>2</th>\n",
       "      <td>10.1016/s1002-0721(12)60398-6</td>\n",
       "      <td>Zintl phase compounds AM2Sb2 (A=Ca, Sr, Ba, Eu...</td>\n",
       "      <td>1</td>\n",
       "    </tr>\n",
       "    <tr>\n",
       "      <th>3</th>\n",
       "      <td>10.1039/b916346h</td>\n",
       "      <td>The thermoelectric performance of EuZn2Sb2 and...</td>\n",
       "      <td>1</td>\n",
       "    </tr>\n",
       "    <tr>\n",
       "      <th>4</th>\n",
       "      <td>10.1002/aenm.201502269</td>\n",
       "      <td>?? 2016 Wiley-VCH Verlag GmbH &amp; Co. KGaA, Wein...</td>\n",
       "      <td>1</td>\n",
       "    </tr>\n",
       "  </tbody>\n",
       "</table>\n",
       "</div>"
      ],
      "text/plain": [
       "                             doi  \\\n",
       "0             10.1039/c7ta08869h   \n",
       "1      10.1007/s11664-015-4303-6   \n",
       "2  10.1016/s1002-0721(12)60398-6   \n",
       "3               10.1039/b916346h   \n",
       "4         10.1002/aenm.201502269   \n",
       "\n",
       "                                            abstract  hall_data  \n",
       "0  ?? The Royal Society of Chemistry 2017. Zintl ...          1  \n",
       "1  ?? 2015, The Minerals, Metals & Materials Soci...          1  \n",
       "2  Zintl phase compounds AM2Sb2 (A=Ca, Sr, Ba, Eu...          1  \n",
       "3  The thermoelectric performance of EuZn2Sb2 and...          1  \n",
       "4  ?? 2016 Wiley-VCH Verlag GmbH & Co. KGaA, Wein...          1  "
      ]
     },
     "execution_count": 14,
     "metadata": {},
     "output_type": "execute_result"
    }
   ],
   "source": [
    "# importing classes\n",
    "import pandas as pd\n",
    "import re\n",
    "import string\n",
    "import nltk\n",
    "import sklearn \n",
    "\n",
    "# reading in .CSV file through pandas\n",
    "df = pd.read_csv('Desktop\\Pandas test\\Abstract.csv', names=['doi','abstract', 'hall_data'])\n",
    "df.head()"
   ]
  },
  {
   "cell_type": "code",
   "execution_count": 15,
   "metadata": {},
   "outputs": [
    {
     "data": {
      "text/html": [
       "<div>\n",
       "<style scoped>\n",
       "    .dataframe tbody tr th:only-of-type {\n",
       "        vertical-align: middle;\n",
       "    }\n",
       "\n",
       "    .dataframe tbody tr th {\n",
       "        vertical-align: top;\n",
       "    }\n",
       "\n",
       "    .dataframe thead th {\n",
       "        text-align: right;\n",
       "    }\n",
       "</style>\n",
       "<table border=\"1\" class=\"dataframe\">\n",
       "  <thead>\n",
       "    <tr style=\"text-align: right;\">\n",
       "      <th></th>\n",
       "      <th>doi</th>\n",
       "      <th>abstract</th>\n",
       "      <th>hall_data</th>\n",
       "      <th>abstract_clean</th>\n",
       "    </tr>\n",
       "  </thead>\n",
       "  <tbody>\n",
       "    <tr>\n",
       "      <th>0</th>\n",
       "      <td>10.1039/c7ta08869h</td>\n",
       "      <td>?? The Royal Society of Chemistry 2017. Zintl ...</td>\n",
       "      <td>1</td>\n",
       "      <td>[, The, Royal, Society, Chemistry, 2017, Zintl...</td>\n",
       "    </tr>\n",
       "    <tr>\n",
       "      <th>1</th>\n",
       "      <td>10.1007/s11664-015-4303-6</td>\n",
       "      <td>?? 2015, The Minerals, Metals &amp; Materials Soci...</td>\n",
       "      <td>1</td>\n",
       "      <td>[, 2015, The, Minerals, Metals, Materials, Soc...</td>\n",
       "    </tr>\n",
       "    <tr>\n",
       "      <th>2</th>\n",
       "      <td>10.1016/s1002-0721(12)60398-6</td>\n",
       "      <td>Zintl phase compounds AM2Sb2 (A=Ca, Sr, Ba, Eu...</td>\n",
       "      <td>1</td>\n",
       "      <td>[Zintl, phase, compounds, AM2Sb2, ACa, Sr, Ba,...</td>\n",
       "    </tr>\n",
       "    <tr>\n",
       "      <th>3</th>\n",
       "      <td>10.1039/b916346h</td>\n",
       "      <td>The thermoelectric performance of EuZn2Sb2 and...</td>\n",
       "      <td>1</td>\n",
       "      <td>[The, thermoelectric, performance, EuZn2Sb2, E...</td>\n",
       "    </tr>\n",
       "    <tr>\n",
       "      <th>4</th>\n",
       "      <td>10.1002/aenm.201502269</td>\n",
       "      <td>?? 2016 Wiley-VCH Verlag GmbH &amp; Co. KGaA, Wein...</td>\n",
       "      <td>1</td>\n",
       "      <td>[, 2016, WileyVCH, Verlag, GmbH, Co, KGaA, Wei...</td>\n",
       "    </tr>\n",
       "  </tbody>\n",
       "</table>\n",
       "</div>"
      ],
      "text/plain": [
       "                             doi  \\\n",
       "0             10.1039/c7ta08869h   \n",
       "1      10.1007/s11664-015-4303-6   \n",
       "2  10.1016/s1002-0721(12)60398-6   \n",
       "3               10.1039/b916346h   \n",
       "4         10.1002/aenm.201502269   \n",
       "\n",
       "                                            abstract  hall_data  \\\n",
       "0  ?? The Royal Society of Chemistry 2017. Zintl ...          1   \n",
       "1  ?? 2015, The Minerals, Metals & Materials Soci...          1   \n",
       "2  Zintl phase compounds AM2Sb2 (A=Ca, Sr, Ba, Eu...          1   \n",
       "3  The thermoelectric performance of EuZn2Sb2 and...          1   \n",
       "4  ?? 2016 Wiley-VCH Verlag GmbH & Co. KGaA, Wein...          1   \n",
       "\n",
       "                                      abstract_clean  \n",
       "0  [, The, Royal, Society, Chemistry, 2017, Zintl...  \n",
       "1  [, 2015, The, Minerals, Metals, Materials, Soc...  \n",
       "2  [Zintl, phase, compounds, AM2Sb2, ACa, Sr, Ba,...  \n",
       "3  [The, thermoelectric, performance, EuZn2Sb2, E...  \n",
       "4  [, 2016, WileyVCH, Verlag, GmbH, Co, KGaA, Wei...  "
      ]
     },
     "execution_count": 15,
     "metadata": {},
     "output_type": "execute_result"
    }
   ],
   "source": [
    "stopword = nltk.corpus.stopwords.words('english')\n",
    "\n",
    "# function that removes, punctuation, stopwrods, and tokenizes text\n",
    "def abstract_clean(text):\n",
    "    regex = r\"(?<!\\d)\\.(?!\\d)\"\n",
    "    text = \"\".join([char for char in text if char not in '!\"#$%&\\'()*+,-/:;<=>?@[\\\\]^_`{|}~'])\n",
    "    period = re.sub(regex, \"\", text)\n",
    "    token = re.split('\\W+', text)\n",
    "    stop = [word for word in token if word not in stopword]\n",
    "    return stop\n",
    "\n",
    "df['abstract_clean'] =  df['abstract'].dropna().apply(lambda text: abstract_clean(text))\n",
    "df.head()"
   ]
  },
  {
   "cell_type": "code",
   "execution_count": 16,
   "metadata": {},
   "outputs": [],
   "source": [
    "from sklearn.feature_extraction.text import TfidfVectorizer\n",
    "\n",
    "# vectorizing by applying tf-idf method to \"abstract\"\n",
    "tfidf_vect = TfidfVectorizer() \n",
    "x = tfidf_vect.fit_transform(df['abstract'].values.astype('str'))\n",
    "y = df['hall_data']"
   ]
  },
  {
   "cell_type": "code",
   "execution_count": 31,
   "metadata": {},
   "outputs": [],
   "source": [
    "from sklearn.linear_model import LogisticRegression\n",
    "\n",
    "logmod = LogisticRegression(solver='liblinear', C=1000.0, penalty='l2', random_state=0)"
   ]
  },
  {
   "cell_type": "code",
   "execution_count": 74,
   "metadata": {},
   "outputs": [
    {
     "name": "stdout",
     "output_type": "stream",
     "text": [
      "tuned hpyerparameters :(best parameters)  {'C': 10.0, 'penalty': 'l2'}\n",
      "accuracy: 0.8916666666666666\n"
     ]
    }
   ],
   "source": [
    "from sklearn.model_selection import GridSearchCV\n",
    "import numpy as np\n",
    "from sklearn.model_selection import train_test_split\n",
    "\n",
    "# splitting the data into training and testing set\n",
    "x_train, x_test, y_train, y_test = train_test_split(x, y, test_size=0.3, shuffle=True)\n",
    "\n",
    "# Using gridsearch to find optimal parameters\n",
    "gs={\"C\": np.logspace(-3,3,7), \"penalty\": [\"l1\",\"l2\"]}\n",
    "logmod_cv=GridSearchCV(logmod, gs, cv=10)\n",
    "logmod_cv.fit(x_train,y_train)\n",
    "prediction_cv = logmod_cv.predict(x_test)\n",
    "\n",
    "print(\"tuned hpyerparameters :(best parameters) \",logmod_cv.best_params_)\n",
    "print(\"accuracy:\",logmod_cv.best_score_)"
   ]
  },
  {
   "cell_type": "code",
   "execution_count": 75,
   "metadata": {},
   "outputs": [
    {
     "name": "stdout",
     "output_type": "stream",
     "text": [
      "roc_auc_score for Logistic Regression:  0.9148606811145512\n"
     ]
    },
    {
     "data": {
      "image/png": "[encoded data removed]",
      "text/plain": [
       "<Figure size 360x360 with 1 Axes>"
      ]
     },
     "metadata": {
      "needs_background": "light"
     },
     "output_type": "display_data"
    }
   ],
   "source": [
    "# plotting ROC curve\n",
    "from sklearn.metrics import roc_curve, roc_auc_score\n",
    "import matplotlib.pyplot as plt\n",
    "         \n",
    "false_positive_rate, true_positive_rate, threshold = roc_curve(y_test, prediction_cv)\n",
    "print('roc_auc_score for Logistic Regression: ', roc_auc_score(y_test, prediction_cv))\n",
    "    \n",
    "plt.subplots(1, figsize=(5,5))\n",
    "plt.title('ROC - Logistic regression')\n",
    "plt.plot(false_positive_rate, true_positive_rate)\n",
    "plt.plot([0, 1], linestyle=\"--\")\n",
    "plt.plot([0, 0], [1, 0] , c=\".7\") \n",
    "plt.plot([1, 1] , c=\".7\")\n",
    "plt.ylabel('True Positive Rate')\n",
    "plt.xlabel('False Positive Rate')\n",
    "plt.show()\n"
   ]
  },
  {
   "cell_type": "code",
   "execution_count": 76,
   "metadata": {},
   "outputs": [
    {
     "data": {
      "image/png": "[encoded data removed]",
      "text/plain": [
       "<Figure size 432x288 with 2 Axes>"
      ]
     },
     "metadata": {
      "needs_background": "light"
     },
     "output_type": "display_data"
    }
   ],
   "source": [
    "# creating confusion matrix\n",
    "from sklearn.metrics import confusion_matrix\n",
    "import seaborn as sns\n",
    "\n",
    "cm = confusion_matrix(y_test, prediction_cv)\n",
    "class_label = [\"No Hall data\", \"Hall data\"]\n",
    "df_cm = pd.DataFrame(cm, index=class_label,columns=class_label)\n",
    "sns.heatmap(df_cm, annot=True, fmt='d')\n",
    "plt.title(\"Confusion Matrix\")\n",
    "plt.xlabel(\"Predicted Label\")\n",
    "plt.ylabel(\"True Label\")\n",
    "plt.show()"
   ]
  },
  {
   "cell_type": "code",
   "execution_count": null,
   "metadata": {},
   "outputs": [],
   "source": []
  }
 ],
 "metadata": {
  "kernelspec": {
   "display_name": "Python 3",
   "language": "python",
   "name": "python3"
  },
  "language_info": {
   "codemirror_mode": {
    "name": "ipython",
    "version": 3
   },
   "file_extension": ".py",
   "mimetype": "text/x-python",
   "name": "python",
   "nbconvert_exporter": "python",
   "pygments_lexer": "ipython3",
   "version": "3.7.6"
  }
 },
 "nbformat": 4,
 "nbformat_minor": 4
}
